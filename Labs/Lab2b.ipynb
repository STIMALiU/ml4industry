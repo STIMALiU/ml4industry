{
 "cells": [
  {
   "cell_type": "markdown",
   "metadata": {},
   "source": [
    "# Lab 2, Problem 2 - Machine Learning for Industry\n",
    "Linköping University, Fall 2019.\n",
    "\n",
    "Author: Mattias Villani, Linköping and Stockholm University, http://mattiasvillani.com"
   ]
  },
  {
   "cell_type": "markdown",
   "metadata": {},
   "source": [
    "In the previous problem we looked at predicting if an item was **sold** on eBay. The dataset actually contained more information. The column <tt>nBids</tt> records the **exact number of bids** in each auction. \n",
    "In this part of the lab you will build a model that can predict the number of bids in an auction.\n",
    "\n",
    "It is not obvious how to set up a loss function and all that here. We could use squared error $(y-\\hat y)^2$, but that is less suitable when the data are not Gaussian. Rather than making up a loss function in an ad hoc fashion, we will assume a distribution for the data and then use maximum likelihood to learn the parameters. This lab will get you closer to the bare metal of fitting ML models to data.\n",
    "\n",
    "**Important**: Study the code in [MLEbyOptimization.ipynb](/Extras/MLEbyOptimization.ipynb) before moving on. The logistic regression example can serve as a template for this problem.\n",
    "    \n",
    "Here the data are discrete **counts**, i.e. non-negative integers. There are many distributions for such data, but the most famous one is the **Poisson distribution** $Y\\sim\\mathrm{Pois}(\\mu)$ with probability density (or mass function):\n",
    "$$\n",
    "p(y) = \\frac{e^{-\\mu}\\mu^y}{y!}  \n",
    "$$\n",
    "Now, if $Y\\sim\\mathrm{Pois}(\\mu)$, then the mean is $\\mathbb{E}Y=\\mu$. We want to model the mean of this distribution as a regression, that is as a function of features, just like we did in the classification problem. However, setting $\\mathbb{E}Y=\\mu=\\mathbf{x}^\\top \\mathbf{w}$ is not great since $\\mu$ must be strictly positive and we would have to put awkward restrictions on $\\mathbf{w}$ to guarantee this. Let us instead use the model:\n",
    "$$Y_i \\vert \\mathbf{x}_i \\sim \\mathrm{Pois}(\\mu_i), \\text{ where } \\mu_i = \\exp(\\mathbf{x}_i^\\top \\mathbf{w}).$$\n",
    "\n",
    "Note that this model uses a different distribution for each auction, depending on the features of that specific auction. Also, $\\mu_i>0$ for all $i$."
   ]
  },
  {
   "cell_type": "markdown",
   "metadata": {},
   "source": [
    "<font color = \"red\">**Your first task**</font> is to use numerical maximum likelihood to learn the weight vector in the Poisson regression with <tt>nBids</tt> \n",
    "as response and the same features that use in the classification model in the previous problem. This entails programming up the (negative) log-likelihood function for the Poisson regression and then using Scipy's minimize function to find the maximum likelihood estimate. Don't worry if <tt>minimize</tt> returns that the optimization did not terminate successfully, the estimates are fine. Use all the data for training.\\\n",
    "**Hint**: <tt>from scipy.stats import poisson</tt>"
   ]
  },
  {
   "cell_type": "markdown",
   "metadata": {},
   "source": [
    "Here are some imports, setting the seed to the random number generator, and also getting the dataset ready for the problem."
   ]
  },
  {
   "cell_type": "code",
   "execution_count": 6,
   "metadata": {},
   "outputs": [
    {
     "data": {
      "text/html": [
       "<div>\n",
       "<style scoped>\n",
       "    .dataframe tbody tr th:only-of-type {\n",
       "        vertical-align: middle;\n",
       "    }\n",
       "\n",
       "    .dataframe tbody tr th {\n",
       "        vertical-align: top;\n",
       "    }\n",
       "\n",
       "    .dataframe thead th {\n",
       "        text-align: right;\n",
       "    }\n",
       "</style>\n",
       "<table border=\"1\" class=\"dataframe\">\n",
       "  <thead>\n",
       "    <tr style=\"text-align: right;\">\n",
       "      <th></th>\n",
       "      <th>PowerSeller</th>\n",
       "      <th>VerifyID</th>\n",
       "      <th>Sealed</th>\n",
       "      <th>Minblem</th>\n",
       "      <th>MajBlem</th>\n",
       "      <th>LargNeg</th>\n",
       "      <th>LogBook</th>\n",
       "      <th>MinBidShare</th>\n",
       "      <th>const</th>\n",
       "    </tr>\n",
       "  </thead>\n",
       "  <tbody>\n",
       "    <tr>\n",
       "      <th>0</th>\n",
       "      <td>0</td>\n",
       "      <td>0</td>\n",
       "      <td>0</td>\n",
       "      <td>0</td>\n",
       "      <td>0</td>\n",
       "      <td>0</td>\n",
       "      <td>-0.2237</td>\n",
       "      <td>-0.2088</td>\n",
       "      <td>1</td>\n",
       "    </tr>\n",
       "    <tr>\n",
       "      <th>1</th>\n",
       "      <td>1</td>\n",
       "      <td>0</td>\n",
       "      <td>0</td>\n",
       "      <td>0</td>\n",
       "      <td>0</td>\n",
       "      <td>0</td>\n",
       "      <td>0.6073</td>\n",
       "      <td>-0.3478</td>\n",
       "      <td>1</td>\n",
       "    </tr>\n",
       "    <tr>\n",
       "      <th>2</th>\n",
       "      <td>1</td>\n",
       "      <td>0</td>\n",
       "      <td>0</td>\n",
       "      <td>0</td>\n",
       "      <td>0</td>\n",
       "      <td>0</td>\n",
       "      <td>0.0332</td>\n",
       "      <td>0.4423</td>\n",
       "      <td>1</td>\n",
       "    </tr>\n",
       "    <tr>\n",
       "      <th>3</th>\n",
       "      <td>0</td>\n",
       "      <td>0</td>\n",
       "      <td>0</td>\n",
       "      <td>1</td>\n",
       "      <td>0</td>\n",
       "      <td>0</td>\n",
       "      <td>0.3755</td>\n",
       "      <td>0.1441</td>\n",
       "      <td>1</td>\n",
       "    </tr>\n",
       "    <tr>\n",
       "      <th>4</th>\n",
       "      <td>0</td>\n",
       "      <td>0</td>\n",
       "      <td>0</td>\n",
       "      <td>0</td>\n",
       "      <td>0</td>\n",
       "      <td>1</td>\n",
       "      <td>1.4347</td>\n",
       "      <td>-0.4104</td>\n",
       "      <td>1</td>\n",
       "    </tr>\n",
       "  </tbody>\n",
       "</table>\n",
       "</div>"
      ],
      "text/plain": [
       "   PowerSeller  VerifyID  Sealed  Minblem  MajBlem  LargNeg  LogBook  \\\n",
       "0            0         0       0        0        0        0  -0.2237   \n",
       "1            1         0       0        0        0        0   0.6073   \n",
       "2            1         0       0        0        0        0   0.0332   \n",
       "3            0         0       0        1        0        0   0.3755   \n",
       "4            0         0       0        0        0        1   1.4347   \n",
       "\n",
       "   MinBidShare  const  \n",
       "0      -0.2088      1  \n",
       "1      -0.3478      1  \n",
       "2       0.4423      1  \n",
       "3       0.1441      1  \n",
       "4      -0.4104      1  "
      ]
     },
     "execution_count": 6,
     "metadata": {},
     "output_type": "execute_result"
    }
   ],
   "source": [
    "# Imports\n",
    "import numpy as np\n",
    "import pandas as pd\n",
    "import matplotlib.pyplot as plt\n",
    "np.random.seed(seed=123) # Set the seed for reproducibility\n",
    "\n",
    "eBayData = pd.read_csv('https://github.com/STIMALiU/ml4industry/raw/master/Labs/eBayData.csv', sep = ',')\n",
    "X = eBayData.drop(['nBids','Sold'], axis = 1)\n",
    "X['const'] = 1\n",
    "y = eBayData['nBids']\n",
    "X.head()"
   ]
  },
  {
   "cell_type": "markdown",
   "metadata": {},
   "source": [
    "Ok,over to you now."
   ]
  },
  {
   "cell_type": "code",
   "execution_count": 11,
   "metadata": {},
   "outputs": [],
   "source": [
    "# YOUR CODE FOR THE LOG-LIKELIHOOD FUNCTION HERE"
   ]
  },
  {
   "cell_type": "code",
   "execution_count": 12,
   "metadata": {},
   "outputs": [],
   "source": [
    "# YOUR CODE FOR FINDING THE MAXIMUM LIKELIHOOD ESTIMATES HERE"
   ]
  },
  {
   "cell_type": "markdown",
   "metadata": {},
   "source": [
    "<font color = \"red\">**Your second task**</font> is to use your learned Poisson model to plot the predictive distribution of <tt>nBids</tt> in a new auction with features ($x_{\\star}$):\n",
    "- PowerSeller = 0\n",
    "- VerifyID = 0\n",
    "- Sealed = 1\n",
    "- MinBlem = 0\n",
    "- MajBlem = 0\n",
    "- LargeNeg = 0\n",
    "- LogBook = 2\n",
    "- MinBidShare = -0.5\n",
    "\n",
    "Proceed like this:\n",
    "- Compute the Poisson mean, $\\mu$, for this specific auction.\n",
    "- Simulate 10000 draws from this Poisson distribution\n",
    "- Make a barplot (<tt>plt.bar</tt>) of the draws (you need to count them first) to approximate the predictive distribution of <tt>nBids</tt> in this new auction. "
   ]
  },
  {
   "cell_type": "code",
   "execution_count": 13,
   "metadata": {},
   "outputs": [],
   "source": [
    "# YOUR CODE HERE"
   ]
  },
  {
   "cell_type": "markdown",
   "metadata": {},
   "source": [
    "<font color = \"red\">**Your final task**</font> is to use the simulation from the predictive distribution to compute an estimate of $\\mathrm{Pr}(Y\\geq4 \\vert \\mathrm{x_{\\star})}$, the probability of at least four bids in the new auction."
   ]
  },
  {
   "cell_type": "code",
   "execution_count": 10,
   "metadata": {},
   "outputs": [],
   "source": [
    "# YOUR CODE HERE"
   ]
  }
 ],
 "metadata": {
  "kernelspec": {
   "display_name": "Python 3",
   "language": "python",
   "name": "python3"
  },
  "language_info": {
   "codemirror_mode": {
    "name": "ipython",
    "version": 3
   },
   "file_extension": ".py",
   "mimetype": "text/x-python",
   "name": "python",
   "nbconvert_exporter": "python",
   "pygments_lexer": "ipython3",
   "version": "3.7.3"
  }
 },
 "nbformat": 4,
 "nbformat_minor": 4
}
