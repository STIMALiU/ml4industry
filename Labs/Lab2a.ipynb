{
 "cells": [
  {
   "cell_type": "markdown",
   "metadata": {},
   "source": [
    "# Lab 2, Problem 1 - Machine Learning for Industry\n",
    "Linköping University, Fall 2019.\n",
    "\n",
    "Author: Mattias Villani, Linköping and Stockholm University, http://mattiasvillani.com"
   ]
  },
  {
   "cell_type": "markdown",
   "metadata": {},
   "source": [
    "The aim of this part of Lab 2 is to build a classification model for predicting if an items get sold at an eBay auction before the auction ends. The dataset contains data from 1000 auctions of collector coins. The dataset was collected and first analyzed in \n",
    "\n",
    "Wegmann and Villani. 'Bayesian Inference in Structural Second-Price Common Value Auctions', *Journal of Business & Economic Statistics*, 2011."
   ]
  },
  {
   "cell_type": "markdown",
   "metadata": {},
   "source": [
    "#### A first look at the dataset"
   ]
  },
  {
   "cell_type": "markdown",
   "metadata": {},
   "source": [
    "Let's get started by loading some libraries and loading the data from the repository."
   ]
  },
  {
   "cell_type": "code",
   "execution_count": 111,
   "metadata": {},
   "outputs": [],
   "source": [
    "# Imports\n",
    "import numpy as np\n",
    "import pandas as pd\n",
    "import matplotlib.pyplot as plt\n",
    "import seaborn as sns\n",
    "np.random.seed(seed=123) # Set the seed for reproducibility"
   ]
  },
  {
   "cell_type": "code",
   "execution_count": 112,
   "metadata": {},
   "outputs": [
    {
     "data": {
      "text/html": [
       "<div>\n",
       "<style scoped>\n",
       "    .dataframe tbody tr th:only-of-type {\n",
       "        vertical-align: middle;\n",
       "    }\n",
       "\n",
       "    .dataframe tbody tr th {\n",
       "        vertical-align: top;\n",
       "    }\n",
       "\n",
       "    .dataframe thead th {\n",
       "        text-align: right;\n",
       "    }\n",
       "</style>\n",
       "<table border=\"1\" class=\"dataframe\">\n",
       "  <thead>\n",
       "    <tr style=\"text-align: right;\">\n",
       "      <th></th>\n",
       "      <th>nBids</th>\n",
       "      <th>PowerSeller</th>\n",
       "      <th>VerifyID</th>\n",
       "      <th>Sealed</th>\n",
       "      <th>Minblem</th>\n",
       "      <th>MajBlem</th>\n",
       "      <th>LargNeg</th>\n",
       "      <th>LogBook</th>\n",
       "      <th>MinBidShare</th>\n",
       "      <th>Sold</th>\n",
       "    </tr>\n",
       "  </thead>\n",
       "  <tbody>\n",
       "    <tr>\n",
       "      <th>0</th>\n",
       "      <td>2</td>\n",
       "      <td>0</td>\n",
       "      <td>0</td>\n",
       "      <td>0</td>\n",
       "      <td>0</td>\n",
       "      <td>0</td>\n",
       "      <td>0</td>\n",
       "      <td>-0.2237</td>\n",
       "      <td>-0.2088</td>\n",
       "      <td>True</td>\n",
       "    </tr>\n",
       "    <tr>\n",
       "      <th>1</th>\n",
       "      <td>6</td>\n",
       "      <td>1</td>\n",
       "      <td>0</td>\n",
       "      <td>0</td>\n",
       "      <td>0</td>\n",
       "      <td>0</td>\n",
       "      <td>0</td>\n",
       "      <td>0.6073</td>\n",
       "      <td>-0.3478</td>\n",
       "      <td>True</td>\n",
       "    </tr>\n",
       "    <tr>\n",
       "      <th>2</th>\n",
       "      <td>1</td>\n",
       "      <td>1</td>\n",
       "      <td>0</td>\n",
       "      <td>0</td>\n",
       "      <td>0</td>\n",
       "      <td>0</td>\n",
       "      <td>0</td>\n",
       "      <td>0.0332</td>\n",
       "      <td>0.4423</td>\n",
       "      <td>True</td>\n",
       "    </tr>\n",
       "    <tr>\n",
       "      <th>3</th>\n",
       "      <td>1</td>\n",
       "      <td>0</td>\n",
       "      <td>0</td>\n",
       "      <td>0</td>\n",
       "      <td>1</td>\n",
       "      <td>0</td>\n",
       "      <td>0</td>\n",
       "      <td>0.3755</td>\n",
       "      <td>0.1441</td>\n",
       "      <td>True</td>\n",
       "    </tr>\n",
       "    <tr>\n",
       "      <th>4</th>\n",
       "      <td>4</td>\n",
       "      <td>0</td>\n",
       "      <td>0</td>\n",
       "      <td>0</td>\n",
       "      <td>0</td>\n",
       "      <td>0</td>\n",
       "      <td>1</td>\n",
       "      <td>1.4347</td>\n",
       "      <td>-0.4104</td>\n",
       "      <td>True</td>\n",
       "    </tr>\n",
       "  </tbody>\n",
       "</table>\n",
       "</div>"
      ],
      "text/plain": [
       "   nBids  PowerSeller  VerifyID  Sealed  Minblem  MajBlem  LargNeg  LogBook  \\\n",
       "0      2            0         0       0        0        0        0  -0.2237   \n",
       "1      6            1         0       0        0        0        0   0.6073   \n",
       "2      1            1         0       0        0        0        0   0.0332   \n",
       "3      1            0         0       0        1        0        0   0.3755   \n",
       "4      4            0         0       0        0        0        1   1.4347   \n",
       "\n",
       "   MinBidShare  Sold  \n",
       "0      -0.2088  True  \n",
       "1      -0.3478  True  \n",
       "2       0.4423  True  \n",
       "3       0.1441  True  \n",
       "4      -0.4104  True  "
      ]
     },
     "execution_count": 112,
     "metadata": {},
     "output_type": "execute_result"
    }
   ],
   "source": [
    "eBayData = pd.read_csv('https://github.com/STIMALiU/ml4industry/raw/master/Labs/eBayData.csv', sep = ',')\n",
    "eBayData.head()"
   ]
  },
  {
   "cell_type": "markdown",
   "metadata": {},
   "source": [
    "The response is the last column <tt>Sold</tt> and we will use all the other features except <tt>nBids</tt> to predict if a sale (<tt>Sold=True</tt>) took place. The features are all characteristics of the auction which would be available at the time the auction was announced.\n",
    "\n",
    "* **PowerSeller** - does the seller sell often at eBay?\n",
    "* **VerifyID** - is the sellers ID verified by eBay?\n",
    "* **Sealed** - is the sold coin sealed in an unopened envelope?\n",
    "* **MinBlem** - does the coin has a minor blemish (determined by a human from pictures and text description)\n",
    "* **MajBlem** - does the coin has a major blemish (determined by a human from pictures and text description)\n",
    "* **LargNeg** - does the seller have a large number of negative feedback from previous actions?\n",
    "* **LogBook** - log of the coin's value according to book of collector coins.\n",
    "* **MinBidShare** - (standardized) ratio of the seller's reservation price (lowest tolerated selling price) to the book value."
   ]
  },
  {
   "cell_type": "markdown",
   "metadata": {},
   "source": [
    "It is always useful to check if the dataset is imbalanced. There are clearly more sold items that unsold, but not terribly imbalanced:"
   ]
  },
  {
   "cell_type": "code",
   "execution_count": 113,
   "metadata": {},
   "outputs": [
    {
     "name": "stdout",
     "output_type": "stream",
     "text": [
      "Fraction of observation with sale: 0.863\n"
     ]
    }
   ],
   "source": [
    "print('Fraction of observation with sale: ' +  str(sum(eBayData['Sold'])/eBayData.shape[0]))"
   ]
  },
  {
   "cell_type": "markdown",
   "metadata": {},
   "source": [
    "#### Set up response vector and feature matrix. Split into training and test.\n",
    "Note how I use the argument <tt>stratify</tt> below. This makes sure that the training and test set contain the same proportion of sold items."
   ]
  },
  {
   "cell_type": "code",
   "execution_count": 114,
   "metadata": {},
   "outputs": [
    {
     "name": "stdout",
     "output_type": "stream",
     "text": [
      "Number of obs for training: 750\n",
      "Number of obs for testing: 250\n"
     ]
    }
   ],
   "source": [
    "from sklearn.model_selection import train_test_split\n",
    "X = eBayData.drop(['nBids','Sold'], axis = 1)\n",
    "y = eBayData['Sold']\n",
    "XTrain, XTest, yTrain, yTest = train_test_split(X, y, test_size = 0.25, random_state = 123, stratify = y)\n",
    "print('Number of obs for training:',XTrain.shape[0])\n",
    "print('Number of obs for testing:',XTest.shape[0])"
   ]
  },
  {
   "cell_type": "code",
   "execution_count": 127,
   "metadata": {},
   "outputs": [
    {
     "name": "stdout",
     "output_type": "stream",
     "text": [
      "Fraction of observation with Sale=True in training: 0.8626666666666667\n",
      "Fraction of observation with Sale=True in test: 0.864\n"
     ]
    }
   ],
   "source": [
    "print('Fraction of observation with Sale=True in training: ' + str(sum(yTrain)/len(yTrain)))\n",
    "print('Fraction of observation with Sale=True in test: ' + str(sum(yTest)/len(yTest)))"
   ]
  },
  {
   "cell_type": "markdown",
   "metadata": {},
   "source": [
    "#### Logistic regression"
   ]
  },
  {
   "cell_type": "markdown",
   "metadata": {},
   "source": [
    "The first model we fit is a logistic regression with (essentially) no regularization. We also produce predictions on the test data. Note the difference between the methods <tt>.predict</tt> and <tt>.predict_proba</tt>."
   ]
  },
  {
   "cell_type": "code",
   "execution_count": 116,
   "metadata": {},
   "outputs": [
    {
     "data": {
      "text/html": [
       "<div>\n",
       "<style scoped>\n",
       "    .dataframe tbody tr th:only-of-type {\n",
       "        vertical-align: middle;\n",
       "    }\n",
       "\n",
       "    .dataframe tbody tr th {\n",
       "        vertical-align: top;\n",
       "    }\n",
       "\n",
       "    .dataframe thead th {\n",
       "        text-align: right;\n",
       "    }\n",
       "</style>\n",
       "<table border=\"1\" class=\"dataframe\">\n",
       "  <thead>\n",
       "    <tr style=\"text-align: right;\">\n",
       "      <th></th>\n",
       "      <th>yTest</th>\n",
       "      <th>yPred</th>\n",
       "      <th>Prob(Y=0|x)</th>\n",
       "      <th>Prob(Y=1|x)</th>\n",
       "    </tr>\n",
       "  </thead>\n",
       "  <tbody>\n",
       "    <tr>\n",
       "      <th>595</th>\n",
       "      <td>True</td>\n",
       "      <td>True</td>\n",
       "      <td>0.008217</td>\n",
       "      <td>0.991783</td>\n",
       "    </tr>\n",
       "    <tr>\n",
       "      <th>351</th>\n",
       "      <td>True</td>\n",
       "      <td>True</td>\n",
       "      <td>0.022391</td>\n",
       "      <td>0.977609</td>\n",
       "    </tr>\n",
       "    <tr>\n",
       "      <th>446</th>\n",
       "      <td>True</td>\n",
       "      <td>True</td>\n",
       "      <td>0.260391</td>\n",
       "      <td>0.739609</td>\n",
       "    </tr>\n",
       "    <tr>\n",
       "      <th>544</th>\n",
       "      <td>True</td>\n",
       "      <td>True</td>\n",
       "      <td>0.080229</td>\n",
       "      <td>0.919771</td>\n",
       "    </tr>\n",
       "    <tr>\n",
       "      <th>208</th>\n",
       "      <td>True</td>\n",
       "      <td>True</td>\n",
       "      <td>0.153079</td>\n",
       "      <td>0.846921</td>\n",
       "    </tr>\n",
       "    <tr>\n",
       "      <th>812</th>\n",
       "      <td>True</td>\n",
       "      <td>True</td>\n",
       "      <td>0.006582</td>\n",
       "      <td>0.993418</td>\n",
       "    </tr>\n",
       "    <tr>\n",
       "      <th>27</th>\n",
       "      <td>True</td>\n",
       "      <td>True</td>\n",
       "      <td>0.009064</td>\n",
       "      <td>0.990936</td>\n",
       "    </tr>\n",
       "    <tr>\n",
       "      <th>792</th>\n",
       "      <td>True</td>\n",
       "      <td>True</td>\n",
       "      <td>0.043490</td>\n",
       "      <td>0.956510</td>\n",
       "    </tr>\n",
       "    <tr>\n",
       "      <th>898</th>\n",
       "      <td>True</td>\n",
       "      <td>True</td>\n",
       "      <td>0.005115</td>\n",
       "      <td>0.994885</td>\n",
       "    </tr>\n",
       "    <tr>\n",
       "      <th>209</th>\n",
       "      <td>True</td>\n",
       "      <td>True</td>\n",
       "      <td>0.012561</td>\n",
       "      <td>0.987439</td>\n",
       "    </tr>\n",
       "  </tbody>\n",
       "</table>\n",
       "</div>"
      ],
      "text/plain": [
       "     yTest  yPred  Prob(Y=0|x)  Prob(Y=1|x)\n",
       "595   True   True     0.008217     0.991783\n",
       "351   True   True     0.022391     0.977609\n",
       "446   True   True     0.260391     0.739609\n",
       "544   True   True     0.080229     0.919771\n",
       "208   True   True     0.153079     0.846921\n",
       "812   True   True     0.006582     0.993418\n",
       "27    True   True     0.009064     0.990936\n",
       "792   True   True     0.043490     0.956510\n",
       "898   True   True     0.005115     0.994885\n",
       "209   True   True     0.012561     0.987439"
      ]
     },
     "execution_count": 116,
     "metadata": {},
     "output_type": "execute_result"
    }
   ],
   "source": [
    "from sklearn import linear_model\n",
    "classModel = linear_model.LogisticRegression(C = 10**10, solver ='lbfgs') # High C gives less regularization\n",
    "classModel.fit(X = XTrain, y = yTrain);\n",
    "\n",
    "yPredTest = classModel.predict(XTest) # Returns the most probable class\n",
    "yPredProbTest = classModel.predict_proba(XTest) # Returns the probabilities of the two classes\n",
    "pd.DataFrame({'yTest':yTest,'yPred':yPredTest,'Prob(Y=0|x)':yPredProbTest[:,0],'Prob(Y=1|x)':yPredProbTest[:,1]}).head(10)"
   ]
  },
  {
   "cell_type": "markdown",
   "metadata": {},
   "source": [
    "Let's visualize the classifier by plotting again the two continuous features: LogBook and MinBidShare. This is modified version of a similar plot from the PDSH book."
   ]
  },
  {
   "cell_type": "code",
   "execution_count": 117,
   "metadata": {},
   "outputs": [
    {
     "data": {
      "image/png": "[encoded data removed]",
      "text/plain": [
       "<Figure size 864x360 with 2 Axes>"
      ]
     },
     "metadata": {
      "needs_background": "light"
     },
     "output_type": "display_data"
    }
   ],
   "source": [
    "def visualizeClassifier(model, XTrain, yTrain, XTest, yTest, featureIdx, ax=None, cmap='terrain'):\n",
    "    \n",
    "    fig, ax = plt.subplots(nrows=1, ncols=2, sharex=False, figsize = (12,5))\n",
    "    \n",
    "\n",
    "    # Training data\n",
    "    ax[0].scatter(XTrain.iloc[:, featureIdx[0]], XTrain.iloc[:, featureIdx[1]], \n",
    "                  c=yTrain, s=15, cmap=cmap, clim=(yTrain.min(), yTrain.max()), zorder=3)\n",
    "    xlim = ax[0].get_xlim()\n",
    "    ylim = ax[0].get_ylim()\n",
    "    ax[0].set(xlabel = XTrain.columns[featureIdx[0]])\n",
    "    ax[0].set(ylabel = XTrain.columns[featureIdx[1]])\n",
    "    \n",
    "    # Fit the estimator to the training data\n",
    "    model.fit(XTrain.iloc[:,featureIdx], yTrain)\n",
    "    xx, yy = np.meshgrid(np.linspace(*xlim, num=200), np.linspace(*ylim, num=200))\n",
    "    Z = model.predict(np.c_[xx.ravel(), yy.ravel()]).reshape(xx.shape)\n",
    "\n",
    "    # Create a color plot with the results\n",
    "    n_classes = len(np.unique(yTrain))\n",
    "    contours = ax[0].contourf(xx, yy, Z, alpha=0.3, levels=np.arange(n_classes + 1) - 0.5,\n",
    "                           cmap=cmap, zorder=1)\n",
    "    ax[0].set(xlim=xlim, ylim=ylim)\n",
    "    ax[0].set(title = 'Training data')\n",
    "    \n",
    "    # Test data\n",
    "    ax[1].scatter(XTest.iloc[:, featureIdx[0]], XTest.iloc[:, featureIdx[1]], \n",
    "                  c=yTest, s=15, cmap=cmap, clim=(yTest.min(), yTest.max()), zorder=3)\n",
    "    xlim = ax[0].get_xlim()\n",
    "    ylim = ax[0].get_ylim()\n",
    "    contours = ax[1].contourf(xx, yy, Z, alpha=0.3, levels=np.arange(n_classes + 1) - 0.5,\n",
    "                           cmap=cmap, zorder=1)\n",
    "    ax[1].set(xlim=xlim, ylim=ylim)\n",
    "    ax[1].set(title = 'Test data')\n",
    "    ax[1].set(xlabel = XTrain.columns[featureIdx[0]])\n",
    "    ax[1].set(ylabel = XTrain.columns[featureIdx[1]])\n",
    "    \n",
    "# Let's plot the classification surface for 'LogBook' and 'MinBidShare'\n",
    "visualizeClassifier(classModel, XTrain, yTrain, XTest, yTest, featureIdx = np.array([6,7]))"
   ]
  },
  {
   "cell_type": "markdown",
   "metadata": {},
   "source": [
    "So the classification boundary suggests that items with high book value and large reservation prices in relation to book values are more likely to remain unsold. Note that this is a very partial view since it does not show the effect of the other features."
   ]
  },
  {
   "cell_type": "markdown",
   "metadata": {},
   "source": [
    "Ok, before I hand over to you, let me drop a function here that fits, predicts and evaluates the performance of any classifier."
   ]
  },
  {
   "cell_type": "code",
   "execution_count": 118,
   "metadata": {},
   "outputs": [],
   "source": [
    "def ClassifierFitEval(classModel, XTrain, yTrain, XTest, yTest, plot = True):\n",
    "    '''\n",
    "    Fits, predicts and evaluates the classifier classModel.\n",
    "    '''\n",
    "    from sklearn.metrics import confusion_matrix, classification_report, roc_curve, roc_auc_score\n",
    "\n",
    "    # Fit the classification model\n",
    "    classModel.fit(X = XTrain, y = yTrain);\n",
    "\n",
    "    # Compute predictions on test data\n",
    "    yPredTest = classModel.predict(XTest) # Returns the most probable class\n",
    "    yPredProbTest = classModel.predict_proba(XTest) # Returns the probabilities of the two classes\n",
    "\n",
    "    # Evaluate the prediction: confusion matrix, precision, recall, ROC, AUC and all that\n",
    "    confuseMat = confusion_matrix(yTest, yPredTest)\n",
    "    ROC = roc_curve(yTest, yPredProbTest[:,1])\n",
    "    AUC = roc_auc_score(yTest, yPredProbTest[:,1])\n",
    "    if plot:\n",
    "        sns.heatmap(confuseMat.T, square=True, annot=True, fmt='d', cbar=False)\n",
    "        plt.xlabel('true label')\n",
    "        plt.ylabel('predicted label');\n",
    "        print(classification_report(yTest, yPredTest))\n",
    "\n",
    "        plt.figure()\n",
    "        plt.plot(ROC[0],ROC[1])\n",
    "        plt.xlabel('False Positive Rate')\n",
    "        plt.ylabel('True Positive Rate');\n",
    "        plt.title('AUC = ' + str(round(AUC,3)));\n",
    "    \n",
    "    return(ROC, AUC)"
   ]
  },
  {
   "cell_type": "markdown",
   "metadata": {},
   "source": [
    "And here is how you use the function on the logistic regression that we used above."
   ]
  },
  {
   "cell_type": "code",
   "execution_count": 119,
   "metadata": {},
   "outputs": [
    {
     "name": "stdout",
     "output_type": "stream",
     "text": [
      "              precision    recall  f1-score   support\n",
      "\n",
      "       False       0.71      0.50      0.59        34\n",
      "        True       0.92      0.97      0.95       216\n",
      "\n",
      "    accuracy                           0.90       250\n",
      "   macro avg       0.82      0.73      0.77       250\n",
      "weighted avg       0.90      0.90      0.90       250\n",
      "\n"
     ]
    },
    {
     "data": {
      "image/png": "[encoded data removed]",
      "text/plain": [
       "<Figure size 432x288 with 1 Axes>"
      ]
     },
     "metadata": {
      "needs_background": "light"
     },
     "output_type": "display_data"
    },
    {
     "data": {
      "image/png": "[encoded data removed]",
      "text/plain": [
       "<Figure size 432x288 with 1 Axes>"
      ]
     },
     "metadata": {
      "needs_background": "light"
     },
     "output_type": "display_data"
    }
   ],
   "source": [
    "from sklearn import linear_model\n",
    "classModel = linear_model.LogisticRegression(C = 10**10, solver ='lbfgs')\n",
    "ROClr, AUClr = ClassifierFitEval(classModel, XTrain, yTrain, XTest, yTest, plot = True)"
   ]
  },
  {
   "cell_type": "markdown",
   "metadata": {},
   "source": [
    "<font color=\"red\">Ok, your turn now.</font> Fit, predict and evaluate a logistic regression with L1-penalty (Lasso) chosen with 5-fold cross-validation. Do CV over a grid of 100 values for the $\\alpha$ Lasso hyperparameter. Comment on the results."
   ]
  },
  {
   "cell_type": "code",
   "execution_count": 134,
   "metadata": {},
   "outputs": [],
   "source": [
    "# YOUR CODE HERE"
   ]
  },
  {
   "cell_type": "markdown",
   "metadata": {},
   "source": [
    "Fit, predict and evaluate a logistic regression with L2-penalty (Ridge) chosen with 5-fold cross-validation. Do CV over a grid of 100 values for the Ridge hyperparameter. Comment on the results."
   ]
  },
  {
   "cell_type": "code",
   "execution_count": 133,
   "metadata": {},
   "outputs": [],
   "source": [
    "# YOUR CODE HERE"
   ]
  },
  {
   "cell_type": "markdown",
   "metadata": {},
   "source": [
    "Fit, predict and evaluate random forest classifier. Comment on the results."
   ]
  },
  {
   "cell_type": "code",
   "execution_count": 132,
   "metadata": {},
   "outputs": [],
   "source": [
    "# YOUR CODE HERE"
   ]
  },
  {
   "cell_type": "markdown",
   "metadata": {},
   "source": [
    "Fit, predict and evaluate XGBoost classifier. Comment on the results."
   ]
  },
  {
   "cell_type": "code",
   "execution_count": 131,
   "metadata": {},
   "outputs": [],
   "source": [
    "# YOUR CODE HERE"
   ]
  },
  {
   "cell_type": "markdown",
   "metadata": {},
   "source": [
    "Fit, predict and evaluate nearest neighbor classifier. Comment on the results."
   ]
  },
  {
   "cell_type": "code",
   "execution_count": 130,
   "metadata": {},
   "outputs": [],
   "source": [
    "# YOUR CODE HERE"
   ]
  },
  {
   "cell_type": "markdown",
   "metadata": {},
   "source": [
    "# Plotting all ROC curves"
   ]
  },
  {
   "cell_type": "markdown",
   "metadata": {},
   "source": [
    "Plot all the ROC curves from the above classifiers in a single figure. Comment."
   ]
  },
  {
   "cell_type": "code",
   "execution_count": 128,
   "metadata": {},
   "outputs": [],
   "source": [
    "# YOUR CODE HERE"
   ]
  },
  {
   "cell_type": "markdown",
   "metadata": {},
   "source": [
    "# Printing all AUC"
   ]
  },
  {
   "cell_type": "markdown",
   "metadata": {},
   "source": [
    "Print out all AUC from all classifiers. Comment."
   ]
  },
  {
   "cell_type": "code",
   "execution_count": 129,
   "metadata": {},
   "outputs": [],
   "source": [
    "# YOUR CODE HERE"
   ]
  },
  {
   "cell_type": "markdown",
   "metadata": {},
   "source": [
    "Experiment with the settings of XGBoost. See which settings really matter and which seem to work best."
   ]
  },
  {
   "cell_type": "code",
   "execution_count": 136,
   "metadata": {},
   "outputs": [],
   "source": [
    "# YOUR CODE HERE"
   ]
  }
 ],
 "metadata": {
  "kernelspec": {
   "display_name": "Python 3",
   "language": "python",
   "name": "python3"
  },
  "language_info": {
   "codemirror_mode": {
    "name": "ipython",
    "version": 3
   },
   "file_extension": ".py",
   "mimetype": "text/x-python",
   "name": "python",
   "nbconvert_exporter": "python",
   "pygments_lexer": "ipython3",
   "version": "3.7.3"
  }
 },
 "nbformat": 4,
 "nbformat_minor": 4
}
